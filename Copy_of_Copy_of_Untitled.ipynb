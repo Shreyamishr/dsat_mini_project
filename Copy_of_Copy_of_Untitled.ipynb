{
  "nbformat": 4,
  "nbformat_minor": 0,
  "metadata": {
    "colab": {
      "provenance": []
    },
    "kernelspec": {
      "name": "python3",
      "display_name": "Python 3"
    },
    "language_info": {
      "name": "python"
    }
  },
  "cells": [
    {
      "cell_type": "code",
      "source": [
        "print(\"****************************************************************************\")\n",
        "print(\"*                                                                          *\")\n",
        "print(\"*                   Welcome to IT SOURCECODE ATM SYSTEM                    *\")\n",
        "print(\"*                                                                          *\")\n",
        "print(\"****************************************************************************\")\n",
        "EnterName=input(\"Enter Name: \")\n",
        "class ATM:\n",
        "    \n",
        "    def __init__(self):\n",
        "        self.account = {'1234':{'saving':5000000, 'checking':980000}}\n",
        "        self.__pin = None\n",
        "        self.enter_pin()\n",
        "    \n",
        "    def get_pin(self):\n",
        "        return self.__pin\n",
        "    \n",
        "    def set_pin(self, pin):\n",
        "        self.__pin = pin\n",
        "    \n",
        "    def enter_pin(self):\n",
        "        while True:\n",
        "\n",
        "          \n",
        "            pin1, pin2 = input(\"Enter pin: \"), input(\"Verify pin: \")\n",
        "            \n",
        "            if (len(pin1) + len(pin2) == 8) and (pin1 == pin2) and (pin1 in self.account):\n",
        "                self.set_pin(pin1)\n",
        "                self.choise()\n",
        "            print(\"Enter pin again!\")\n",
        "            print('----------------')\n",
        "            print('****************')\n",
        "            print(\"Enter pin again!\")\n",
        "            print('****************')\n",
        "            print('----------------')\n",
        "           \n",
        "\n",
        "    \n",
        "    def choise(self):\n",
        "        while True:\n",
        "            ch = input(\"Enter choise: \")\n",
        "            \n",
        "\n",
        "            if ch == '1':\n",
        "                self.ch1()\n",
        "            elif ch == '2':\n",
        "                self.ch2()\n",
        "            elif ch == '3':\n",
        "                self.ch3()\n",
        "            elif ch == '4':\n",
        "                self.ch4()\n",
        "            else:\n",
        "              print('----------------')\n",
        "              print('****************')\n",
        "              print('INVALID USERNAME')\n",
        "              print('****************')\n",
        "              print('----------------')\n",
        "              self.enter_pin()\n",
        "    \n",
        "    def ch1(self):\n",
        "        print(self.account[self.get_pin()]['saving'])\n",
        "        print('----------------')\n",
        "        print('****************')\n",
        "        print('Saving')\n",
        "        print('****************')\n",
        "        print('----------------')\n",
        "    \n",
        "    def ch2(self):\n",
        "        deposit = int(input(\"Enter deposit money: \"))\n",
        "        self.account[self.get_pin()]['saving'] += deposit\n",
        "        print(self.account[self.get_pin()]['saving'])\n",
        "        print('----------------')\n",
        "        print('----------------')\n",
        "        print('****************')\n",
        "        print('deposit')\n",
        "        print('****************')\n",
        "        print('----------------')\n",
        "    \n",
        "    def ch3(self):\n",
        "        withdraw = int(input(\"Enter withdraw money: \"))\n",
        "        if self.account[self.get_pin()]['saving'] >= withdraw:\n",
        "            self.account[self.get_pin()]['saving'] -= withdraw\n",
        "            print(self.account[self.get_pin()]['saving'])\n",
        "        else:\n",
        "            print(\"Not enough balance!\")\n",
        "            print('----------------')\n",
        "            print('****************')\n",
        "            print('Not enough balance!')\n",
        "            print('****************')\n",
        "            print('----------------')\n",
        "    \n",
        "    def ch4(self):\n",
        "        transfer = int(input(\"Enter transfer amount: \"))\n",
        "        if self.account[self.get_pin()]['checking'] >= transfer:\n",
        "            self.account[self.get_pin()]['checking'] -= transfer\n",
        "            self.account[self.get_pin()]['saving'] += transfer\n",
        "            print(\"Saving balance:\", self.account[self.get_pin()]['saving'])\n",
        "            print(\"Checking balance:\", self.account[self.get_pin()]['checking'])\n",
        "        else:\n",
        "            print(\"Not enough balance!\")\n",
        "            print(\"Not enough balance!\")\n",
        "            print('----------------')\n",
        "            print('****************')\n",
        "            print('Not enough balance!')\n",
        "            print('****************')\n",
        "            print('----------------')\n",
        "if __name__ == '__main__':\n",
        "    atm = ATM()"
      ],
      "metadata": {
        "colab": {
          "base_uri": "https://localhost:8080/"
        },
        "id": "Cdzs2OJpVy_K",
        "outputId": "1194670a-fb5c-44da-c4ce-4574f389627e"
      },
      "execution_count": null,
      "outputs": [
        {
          "name": "stdout",
          "output_type": "stream",
          "text": [
            "****************************************************************************\n",
            "*                                                                          *\n",
            "*                   Welcome to IT SOURCECODE ATM SYSTEM                    *\n",
            "*                                                                          *\n",
            "****************************************************************************\n",
            "Enter Name: shreya\n"
          ]
        }
      ]
    },
    {
      "cell_type": "markdown",
      "source": [
        "# New Section"
      ],
      "metadata": {
        "id": "6fwA5KG4fMJd"
      }
    },
    {
      "cell_type": "markdown",
      "source": [
        "# New Section"
      ],
      "metadata": {
        "id": "bpVxLpy-fN3X"
      }
    }
  ]
}